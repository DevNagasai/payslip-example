{
 "metadata": {
  "language_info": {
   "codemirror_mode": {
    "name": "ipython",
    "version": 3
   },
   "file_extension": ".py",
   "mimetype": "text/x-python",
   "name": "python",
   "nbconvert_exporter": "python",
   "pygments_lexer": "ipython3",
   "version": "3.8.3-final"
  },
  "orig_nbformat": 2,
  "kernelspec": {
   "name": "python3",
   "display_name": "Python 3",
   "language": "python"
  }
 },
 "nbformat": 4,
 "nbformat_minor": 2,
 "cells": [
  {
   "cell_type": "code",
   "execution_count": 9,
   "metadata": {},
   "outputs": [],
   "source": [
    "def readFile(file,*args,**kwargs):\n",
    "    lengthline = kwargs['lengthline']\n",
    "    schema = kwargs['schema']\n",
    "    delimiter = args[0]\n",
    "    parsedlines = []\n",
    "    # print(schema)\n",
    "    try:\n",
    "        f = open(file)\n",
    "        lines = f.read().splitlines()\n",
    "        for line in lines:\n",
    "            singleParsedLine = {}\n",
    "            arrLine = line.split(delimiter)\n",
    "            if len(arrLine) == lengthline:\n",
    "                count = 0\n",
    "                for element in arrLine:\n",
    "                    singleParsedLine[schema[count]]=element\n",
    "                    count+=1\n",
    "                # print(singleParsedLine)\n",
    "                parsedlines.append(singleParsedLine)\n",
    "\n",
    "        return parsedlines\n",
    "    except Exception as e:\n",
    "        raise e \n",
    "#nagasai tenekondala\n",
    "\n",
    "\n",
    "def paySlip():\n",
    "    formattedEmployeeFile = readFile(\"employees.txt\",\"\\\\t\",lengthline=9,schema=['staffId', 'lastName', 'firstName','PPSN', 'stdHours','stdRate', 'otRate', 'taxCredit', 'standardband'])\n",
    "    formattedHrFile = readFile(\"hours.txt\",\"\\\\t\",lengthline=3,schema=['date', 'staffId', 'hours'])\n",
    "    formattedTaxFile = readFile(\"taxrates.txt\", \"\\\\t\", lengthline = 2, schema = [\"standardTax\", \"highRateTax\"])[0]\n",
    "    \n",
    "    for entry in formattedHrFile:\n",
    "        staffId = entry['staffId']\n",
    "        employee = list(filter(lambda x: x['staffId'] == staffId, formattedEmployeeFile))[0]\n",
    "        staffName = employee[\"firstName\"]+\" \"+employee['lastName']\n",
    "        ppsn  = employee[\"PPSN\"]\n",
    "        date = entry['date']\n",
    "        regular = employee['stdHours'] if entry['hours'] > employee['stdHours'] else entry['hours']\n",
    "        overTime = float(entry['hours']) - float(employee['stdHours']) if entry['hours'] > employee['stdHours'] else 0\n",
    "        regularPay = float(regular) * float(employee['stdRate'])\n",
    "        overTimePay = float(overTime) * float(employee['otRate'])\n",
    "        grossPay = regularPay + overTimePay\n",
    "\n",
    "        higherBand = (grossPay - float(employee['standardband'])) if grossPay > float(employee['standardband']) else 0\n",
    "        standardBand = grossPay if grossPay < float(employee['standardband']) else float(employee['standardband'])\n",
    "    \n",
    "        stdTax = standardBand * (float(formattedTaxFile['standardTax'])*0.001)\n",
    "        higherTax = higherBand * (float(formattedTaxFile['highRateTax'])*0.001)    \n",
    "        totalDeductions = stdTax + higherTax\n",
    "        taxCredit = float(employee['taxCredit'])\n",
    "        netDeductions = totalDeductions - taxCredit if totalDeductions > taxCredit else totalDeductions\n",
    "        netPay = grossPay - netDeductions\n",
    "\n",
    "        print(f'staff:id :{staffId}')\n",
    "        print(f'staff Name:{staffName}')\n",
    "        print(f'PPSN:{ppsn}')\n",
    "        print(f\"Date:{date}\")\n",
    "        print(f\"Regular:{regular}\")\n",
    "        print(f\"overTime: {overTime}\")\n",
    "        print(f\"regularPay:{regularPay}\")\n",
    "        print(f\"overTimePay: {overTimePay}\")\n",
    "        print(f\"grossPay: {grossPay}\")\n",
    "        print(f\"higherBand:{higherBand}\")\n",
    "        print(f\"standardBand:{standardBand}\")\n",
    "        print(f\"stdTax:{stdTax}\")\n",
    "        print(f\"higherTax:{higherTax}\")\n",
    "        print(f\"totalDeductions:{totalDeductions}\")\n",
    "        print(f\"taxCredit:{taxCredit}\")\n",
    "        print(f\"netDeductions:{netDeductions}\")\n",
    "        print(f\"netPay: {netPay}\")\n",
    "    \n",
    "\n",
    "\n",
    "    "
   ]
  },
  {
   "cell_type": "code",
   "execution_count": 10,
   "metadata": {},
   "outputs": [
    {
     "output_type": "stream",
     "name": "stdout",
     "text": [
      "staff:id :1\nstaff Name:Nagasai> Tenekondala\nPPSN:9165A\nDate:21/04/1996\nRegular:20\noverTime: 33.0\nregularPay:200.0\noverTimePay: 363.0\ngrossPay: 563.0\nhigherBand:63.0\nstandardBand:500.0\nstdTax:5.0\nhigherTax:0.945\ntotalDeductions:5.945\ntaxCredit:200.0\nnetDeductions:5.945\nnetPay: 557.055\nstaff:id :2\nstaff Name:Vivek> Ajage\nPPSN:21605B\nDate:21/04/1994\nRegular:20\noverTime: 43.0\nregularPay:200.0\noverTimePay: 473.0\ngrossPay: 673.0\nhigherBand:173.0\nstandardBand:500.0\nstdTax:5.0\nhigherTax:2.5949999999999998\ntotalDeductions:7.595\ntaxCredit:200.0\nnetDeductions:7.595\nnetPay: 665.405\n"
     ]
    }
   ],
   "source": [
    "paySlip()"
   ]
  },
  {
   "cell_type": "code",
   "execution_count": null,
   "metadata": {},
   "outputs": [],
   "source": []
  },
  {
   "cell_type": "code",
   "execution_count": null,
   "metadata": {},
   "outputs": [],
   "source": []
  }
 ]
}